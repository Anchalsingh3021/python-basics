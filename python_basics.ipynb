{
  "nbformat": 4,
  "nbformat_minor": 0,
  "metadata": {
    "colab": {
      "provenance": []
    },
    "kernelspec": {
      "name": "python3",
      "display_name": "Python 3"
    },
    "language_info": {
      "name": "python"
    }
  },
  "cells": [
    {
      "cell_type": "markdown",
      "source": [
        "##python basics assignment"
      ],
      "metadata": {
        "id": "B6gRhczGdfBm"
      }
    },
    {
      "cell_type": "markdown",
      "source": [
        "1. What is Python, and why is it popular?\n",
        "  - python is a most popular programing.It is a dynamic language with vast libraries Python is a high-level, interpreted programming language that is known for its simplicity and readability. It was created by Guido van Rossum and first released in 1991. Python is popular because of its easy syntax, making it beginner-friendly. It supports multiple programming paradigms, like object-oriented, and functional programming. Python has a large collection of libraries and frameworks that make tasks like web development, data analysis, and machine learning much easier. Additionally, Python's community support and cross-platform capabilities contribute to its widespread use in various industries.\n",
        "\n",
        "2. What is an interpreter in Python?\n",
        "  - An interpreter in Python is a program that executes Python code line by line. It reads the source code, converts it into bytecode, and runs it directly, rather than compiling the entire code at once. This allows for quick testing and debugging. The interpreter makes Python platform-independent, as it can run on different operating systems like Windows, macOS, and Linux.\n",
        "\n",
        "3. What are pre-defined keywords in Python?\n",
        "  -  Pre-defined keywords in Python are reserved words that are part of the language’s syntax and have a specific meaning. These keywords are used to define the structure of the program and cannot be used as variable names, function names, or identifiers. Examples include `if`, `else`, `for`, `while`, `def`, and `class`. They help control the flow of the program, create functions, handle exceptions, and more. Python has a fixed set of keywords, and they are fundamental for writing valid Python code.\n",
        "\n",
        "4. Can keywords be used as variable names?\n",
        "  - No, keywords cannot be used as variable names in Python. Keywords are reserved words that have a specific meaning in the language and are part of its syntax. Using them as variable names would cause a syntax error. For example, you cannot name a variable `if`, `while`, or `def` because these are keywords. Python has a list of these reserved keywords, and they are essential for defining the structure and flow of the code.\n",
        "\n",
        "5. What is mutability in Python?\n",
        "  - Mutability in Python refers to the ability of an object to be modified after it is created. If an object is mutable, its content can be changed, such as adding or removing elements. Examples of mutable objects in Python are lists, dictionaries, and sets. On the other hand, immutable objects cannot be changed once created. Examples of immutable objects include strings, tuples, and integers. Understanding mutability is important because it affects how objects behave when passed around in functions or assigned to new variables.\n",
        "\n",
        "6. Why are lists mutable, but tuples are immutable?\n",
        "  - Lists are mutable in Python because they are designed to allow changes in their content, such as adding, removing, or modifying elements. This flexibility makes them useful for situations where the data needs to change during the program's execution.\n",
        "\n",
        "   Tuples, on the other hand, are immutable because they are meant to store fixed collections of data. Once a tuple is created, its content cannot be changed, which ensures data integrity. This immutability makes tuples more memory efficient and faster to access compared to lists, especially when you need to guarantee that the data remains unchanged.\n",
        "\n",
        "7. What is the difference between “==” and “is” operators in Python?\n",
        "   - In Python, the `==` and `is` operators are used for comparison but serve different purposes:\n",
        "\n",
        "   - The `==` operator checks equality of the values of two objects. It returns `True` if the values of the two objects are the same, regardless of whether they are the same object in memory. For example, two different lists with the same elements are considered equal using `==`.\n",
        "\n",
        "   - The `is` operator checks identity. It returns `True` if both operands refer to the same object in memory, not just if they have the same value. This is often used to check if two variables point to the exact same object, rather than just being equal in value.\n",
        "\n",
        "Example:\n",
        "```\n",
        "a = [1, 2, 3]\n",
        "b = [1, 2, 3]\n",
        "c = a\n",
        "\n",
        "print(a == b)  # True, because the values are the same\n",
        "print(a is b)  # False, because they are different objects in memory\n",
        "print(a is c)  # True, because both refer to the same object\n",
        "```\n",
        "8. What are logical operators in Python?\n",
        "  Logical operators in Python are used to perform logical operations on boolean values (`True` or `False`). The three main logical operators are:\n",
        "\n",
        "-  **`and`**: Returns `True` if both conditions are `True`; otherwise, it returns `False`.\n",
        "   - Example: `True and False` gives `False`.\n",
        "\n",
        "-  **`or`**: Returns `True` if at least one condition is `True`; otherwise, it returns `False`.\n",
        "   - Example: `True or False` gives `True`.\n",
        "\n",
        "-  **`not`**: Reverses the boolean value. If the condition is `True`, it returns `False`, and vice versa.\n",
        "   - Example: `not True` gives `False`.\n",
        "\n",
        "9. What is type casting in Python?\n",
        "  - Type casting in Python is the process of converting one data type into another. Python provides two types of type casting:\n",
        "\n",
        "- Implicit Type Casting (Automatic Type Conversion):- This happens  \n",
        "  automatically when Python converts a smaller data type to a larger one. For example, converting an integer to a float.\n",
        "   - Example: `x = 5` (int), `y = 2.5` (float), `z = x + y` (result is a float: `7.5`).\n",
        "\n",
        "- Explicit Type Casting (Manual Type Conversion):- This is when you explicitly convert a value from one type to another using functions like `int()`, `float()`, `str()`, etc.\n",
        "   - Example: `x = 10.5`, `y = int(x)` (converts float to int, result is `10`).\n",
        "\n",
        "10.  What is the difference between implicit and explicit type casting?\n",
        "   - Implicit type casting is the automatic conversion of a smaller data type to a larger one by Python without the need for programmer intervention. It happens when Python determines that the conversion is safe and necessary for the operation.\n",
        "\n",
        "   - Explicit type casting, on the other hand, requires the programmer to manually convert one data type to another using functions like `int()`, `float()`, or `str()`. This type of casting is used when the programmer needs to control or specify how the conversion should happen.\n",
        "\n",
        "   - The main difference implicit casting is automatic and done by Python, while explicit casting is intentional and controlled by the programmer.\n",
        "\n",
        "11. What is the purpose of conditional statements in Python?\n",
        "  - The purpose of conditional statements in Python is to control the flow of the program based on certain conditions. They allow the program to make decisions and execute different blocks of code depending on whether a condition is `True` or `False`. This makes the program more dynamic and flexible.\n",
        "\n",
        "  Conditional statements like `if`, `elif`, and `else` help in checking conditions and performing actions accordingly. For example, you can use them to check if a number is positive or negative, or whether a user input matches a particular value. By using conditional statements, Python programs can handle  various scenarios and adapt to different inputs or situations.\n",
        "  \n",
        "12. How does the elif statement work?\n",
        "  - The `elif` statement in Python stands for \"else if.\" It is used after an `if` statement to check additional conditions if the initial `if` condition is false. When the `if` condition is false, Python moves on to the `elif` block and checks its condition. If the `elif` condition is true, the code inside the `elif` block runs. If it's also false, Python will check further `elif` statements or finally run the `else` block if no condition is true.\n",
        "\n",
        " example:\n",
        "\n",
        "```python\n",
        "x = 5\n",
        "\n",
        "if x > 10:\n",
        "    print(\"x is greater than 10\")\n",
        "elif x == 5:\n",
        "    print(\"x is 5\")\n",
        "else:\n",
        "    print(\"x is less than 5\")\n",
        "```\n",
        "\n",
        "output: x is 5\n",
        "\n",
        "13. What is the difference between for and while loops?\n",
        "  - A \"for\" loop is used when you know how many times you want to repeat a task. It runs a set number of times, making it great for situations like iterating over a list or repeating an action a specific number of times.\n",
        "\n",
        "     A \"while\" loop, on the other hand, is used when you don’t know how many times the loop will run. It keeps repeating as long as a condition is true. Once the condition becomes false, the loop stops.\n",
        "\n",
        "     For example, in a \"for\" loop, you might specify the number of times the loop runs, like 10 times. In a \"while\" loop, you might keep checking if a value is less than 10 and keep repeating until it reaches 10.\n",
        "\n",
        "14.  Describe a scenario where a while loop is more suitable than a for loop.\n",
        "  - A \"while\" loop is more suitable when you don't know in advance how many times you need to repeat a task and the loop depends on a condition to stop.\n",
        "\n",
        "  For example, imagine you are creating a program that asks a user to enter their password until they type it correctly. You don’t know how many attempts the user will need, so you use a \"while\" loop. The loop keeps running until the user enters the correct password.\n",
        "\n",
        "program:\n",
        "```python\n",
        "password = \"\"\n",
        "while password != \"secret123\":  # Keep asking until the correct password is entered\n",
        "    password = input(\"Enter your password: \")\n",
        "print(\"Password correct!\")\n",
        "```\n",
        "\n",
        "In this case, the loop will run as many times as needed until the condition is satisfied. This is perfect for situations where the number of repetitions is unknown and depends on user input or other factors.     \n"
      ],
      "metadata": {
        "id": "oAU1TCMKV4y9"
      }
    },
    {
      "cell_type": "code",
      "source": [
        "#Write a Python program to print \"Hello, World!?\n",
        "print(\"Hello, World!\")\n"
      ],
      "metadata": {
        "colab": {
          "base_uri": "https://localhost:8080/"
        },
        "id": "2MyE_M-xdtvs",
        "outputId": "f25a7433-66e0-41e6-ea36-4b1f73f4d645"
      },
      "execution_count": 1,
      "outputs": [
        {
          "output_type": "stream",
          "name": "stdout",
          "text": [
            "Hello, World!\n"
          ]
        }
      ]
    },
    {
      "cell_type": "code",
      "execution_count": 2,
      "metadata": {
        "id": "0Qw6BtOjTgJx",
        "colab": {
          "base_uri": "https://localhost:8080/"
        },
        "outputId": "4d676ad7-5601-4872-b263-69da9f12bd6f"
      },
      "outputs": [
        {
          "output_type": "stream",
          "name": "stdout",
          "text": [
            "Name: John Doe\n",
            "Age: 25\n"
          ]
        }
      ],
      "source": [
        "#Write a Python program that displays your name and age.\n",
        "name = \"John Doe\"\n",
        "age = 25\n",
        "\n",
        "print(\"Name:\", name)\n",
        "print(\"Age:\", age)\n"
      ]
    },
    {
      "cell_type": "code",
      "source": [
        "# Write code to print all the pre-defined keywords in Python using the keyword library.\n",
        "import keyword\n",
        "\n",
        "# Print all the keywords in Python\n",
        "print(\"Python keywords:\", keyword.kwlist)\n"
      ],
      "metadata": {
        "colab": {
          "base_uri": "https://localhost:8080/"
        },
        "id": "UvL-22hlevdW",
        "outputId": "b8545f57-69fc-421a-f2f9-456a660fe45f"
      },
      "execution_count": 3,
      "outputs": [
        {
          "output_type": "stream",
          "name": "stdout",
          "text": [
            "Python keywords: ['False', 'None', 'True', 'and', 'as', 'assert', 'async', 'await', 'break', 'class', 'continue', 'def', 'del', 'elif', 'else', 'except', 'finally', 'for', 'from', 'global', 'if', 'import', 'in', 'is', 'lambda', 'nonlocal', 'not', 'or', 'pass', 'raise', 'return', 'try', 'while', 'with', 'yield']\n"
          ]
        }
      ]
    },
    {
      "cell_type": "code",
      "source": [
        "# Write a program that checks if a given word is a Python keyword.\n",
        "import keyword\n",
        "word = input(\"Enter a word: \")\n",
        "\n",
        "if keyword.iskeyword(word):\n",
        "    print(f\"'{word}' is a Python keyword.\")\n",
        "else:\n",
        "    print(f\"'{word}' is not a Python keyword.\")\n"
      ],
      "metadata": {
        "id": "lCoYbFMZfHS-"
      },
      "execution_count": null,
      "outputs": []
    },
    {
      "cell_type": "code",
      "source": [
        "# Create a list and tuple in Python, and demonstrate how attempting to change an element works differently for each.\n",
        "my_list = [1, 2, 3, 4]\n",
        "my_tuple = (1, 2, 3, 4)\n",
        "\n",
        "my_list[2] = 10\n",
        "print(\"Updated list:\", my_list)\n",
        "\n",
        "try:\n",
        "    my_tuple[2] = 10  # This will raise an error because tuples are immutable\n",
        "except TypeError as e:\n",
        "    print(\"Error when changing tuple:\", e)\n"
      ],
      "metadata": {
        "colab": {
          "base_uri": "https://localhost:8080/"
        },
        "id": "soLUqaYcft3K",
        "outputId": "47a6b6fb-12f5-4a05-81e9-7d8f2cd29331"
      },
      "execution_count": 5,
      "outputs": [
        {
          "output_type": "stream",
          "name": "stdout",
          "text": [
            "Updated list: [1, 2, 10, 4]\n",
            "Error when changing tuple: 'tuple' object does not support item assignment\n"
          ]
        }
      ]
    },
    {
      "cell_type": "code",
      "source": [
        "# Write a function to demonstrate the behavior of mutable and immutable arguments.\n",
        "def test_arguments(mutable, immutable):\n",
        "    mutable.append(4)  # Modify mutable argument (list)\n",
        "    immutable += 1     # Modify immutable argument (integer)\n",
        "\n",
        "my_list = [1, 2, 3]\n",
        "my_number = 5\n",
        "\n",
        "test_arguments(my_list, my_number)\n",
        "\n",
        "print(\"Mutable argument after function call:\", my_list)  # List is modified\n",
        "print(\"Immutable argument after function call:\", my_number)  # Number is unchanged\n",
        "\n"
      ],
      "metadata": {
        "colab": {
          "base_uri": "https://localhost:8080/"
        },
        "id": "2mOI0c6igD9R",
        "outputId": "baa6b7f2-f27b-4d22-a89b-c22789b0d856"
      },
      "execution_count": 6,
      "outputs": [
        {
          "output_type": "stream",
          "name": "stdout",
          "text": [
            "Mutable argument after function call: [1, 2, 3, 4]\n",
            "Immutable argument after function call: 5\n"
          ]
        }
      ]
    },
    {
      "cell_type": "code",
      "source": [
        "# Write a function to demonstrate the behavior of mutable and immutable arguments.\n",
        "def test_args(mutable, immutable):\n",
        "    mutable.append(4)  # Modify mutable (list)\n",
        "    immutable += 1     # Modify immutable (integer)\n",
        "\n",
        "my_list = [1, 2, 3]\n",
        "my_num = 10\n",
        "test_args(my_list, my_num)\n",
        "\n",
        "print(\"Mutable argument after function call:\", my_list)  # List is modified\n",
        "print(\"Immutable argument after function call:\", my_num)  # Number is unchanged\n"
      ],
      "metadata": {
        "colab": {
          "base_uri": "https://localhost:8080/"
        },
        "id": "5VUFghiqguHn",
        "outputId": "36ced288-fedd-45be-929f-8235dc39cf11"
      },
      "execution_count": 7,
      "outputs": [
        {
          "output_type": "stream",
          "name": "stdout",
          "text": [
            "Mutable argument after function call: [1, 2, 3, 4]\n",
            "Immutable argument after function call: 10\n"
          ]
        }
      ]
    },
    {
      "cell_type": "code",
      "source": [
        "# Write a program to demonstrate the use of logical operators\n",
        "# Demonstrating logical operators\n",
        "\n",
        "x = 10\n",
        "y = 5\n",
        "\n",
        "# Using 'and' operator\n",
        "if x > 5 and y < 10:\n",
        "    print(\"Both conditions are true (x > 5 and y < 10).\")\n",
        "\n",
        "# Using 'or' operator\n",
        "if x > 5 or y > 10:\n",
        "    print(\"At least one condition is true (x > 5 or y > 10).\")\n",
        "\n",
        "# Using 'not' operator\n",
        "if not (x < 5):\n",
        "    print(\"The condition 'x < 5' is false, so 'not' makes it true.\")\n"
      ],
      "metadata": {
        "id": "b3HUFectiKFS"
      },
      "execution_count": null,
      "outputs": []
    },
    {
      "cell_type": "code",
      "source": [
        "#  Write a Python program to convert user input from string to integer, float, and boolean types0\n",
        "user_input = input(\"Enter a value: \")\n",
        "\n",
        "user_int = int(user_input)\n",
        "print(\"Converted to integer:\", user_int)\n",
        "\n",
        "# Convert string to float\n",
        "user_float = float(user_input)\n",
        "print(\"Converted to float:\", user_float)\n",
        "\n",
        "# Convert string to boolean\n",
        "user_bool = bool(user_input)  # Converts the input to boolean (empty string is False, otherwise True)\n",
        "print(\"Converted to boolean:\", user_bool)\n"
      ],
      "metadata": {
        "colab": {
          "base_uri": "https://localhost:8080/"
        },
        "id": "6rg2KEcziSXS",
        "outputId": "4b634972-aaf3-4e44-f000-3b992348f50f"
      },
      "execution_count": 9,
      "outputs": [
        {
          "output_type": "stream",
          "name": "stdout",
          "text": [
            "Enter a value: 12\n",
            "Converted to integer: 12\n",
            "Converted to float: 12.0\n",
            "Converted to boolean: True\n"
          ]
        }
      ]
    },
    {
      "cell_type": "code",
      "source": [
        "# Write code to demonstrate type casting with list elements.\n",
        "string_list = [\"1\", \"2\", \"3\", \"4.5\"]\n",
        "\n",
        "# Convert each element to integer\n",
        "int_list = [int(item) for item in string_list[:3]]  # Only converting first 3 elements to integers\n",
        "print(\"List after type casting to integers:\", int_list)\n",
        "\n",
        "# Convert each element to float\n",
        "float_list = [float(item) for item in string_list]  # Converting all elements to float\n",
        "print(\"List after type casting to floats:\", float_list)\n",
        "\n",
        "# Convert each element to boolean\n",
        "bool_list = [bool(item) for item in string_list]  # Non-empty strings are True\n",
        "print(\"List after type casting to boolean:\", bool_list)\n"
      ],
      "metadata": {
        "colab": {
          "base_uri": "https://localhost:8080/"
        },
        "id": "VzW24unLiz0L",
        "outputId": "1fafbba5-9b67-475a-8991-8c0b697ccd6c"
      },
      "execution_count": 10,
      "outputs": [
        {
          "output_type": "stream",
          "name": "stdout",
          "text": [
            "List after type casting to integers: [1, 2, 3]\n",
            "List after type casting to floats: [1.0, 2.0, 3.0, 4.5]\n",
            "List after type casting to boolean: [True, True, True, True]\n"
          ]
        }
      ]
    },
    {
      "cell_type": "code",
      "source": [
        "# Write a program that checks if a number is positive, negative, or zero.\n",
        "num = float(input(\"Enter a number: \"))\n",
        "if num > 0:\n",
        "    print(\"The number is positive.\")\n",
        "elif num < 0:\n",
        "    print(\"The number is negative.\")\n",
        "else:\n",
        "    print(\"The number is zero.\")"
      ],
      "metadata": {
        "colab": {
          "base_uri": "https://localhost:8080/"
        },
        "id": "HeSZScpfkQ7C",
        "outputId": "f70d8c0d-578d-4899-c15a-8489f0106602"
      },
      "execution_count": 11,
      "outputs": [
        {
          "output_type": "stream",
          "name": "stdout",
          "text": [
            "Enter a number: 12.6\n",
            "The number is positive.\n"
          ]
        }
      ]
    },
    {
      "cell_type": "code",
      "source": [
        "# Write a for loop to print numbers from 1 to 10.\n",
        "for i in range(1, 11):\n",
        "    print(i)\n"
      ],
      "metadata": {
        "colab": {
          "base_uri": "https://localhost:8080/"
        },
        "id": "IRLrXB0ekj8Q",
        "outputId": "87c0d5e5-10ec-4087-f771-b60c46b5c060"
      },
      "execution_count": 12,
      "outputs": [
        {
          "output_type": "stream",
          "name": "stdout",
          "text": [
            "1\n",
            "2\n",
            "3\n",
            "4\n",
            "5\n",
            "6\n",
            "7\n",
            "8\n",
            "9\n",
            "10\n"
          ]
        }
      ]
    },
    {
      "cell_type": "code",
      "source": [
        "# Write a Python program to find the sum of all even numbers between 1 and 500.\n",
        "sum_even = 0\n",
        "\n",
        "for num in range(1, 501):\n",
        "    if num % 2 == 0:\n",
        "        sum_even += num\n",
        "\n",
        "print(\"The sum of all even numbers between 1 and 500 is:\", sum_even)\n"
      ],
      "metadata": {
        "colab": {
          "base_uri": "https://localhost:8080/"
        },
        "id": "VseHIX8ZlAe8",
        "outputId": "f5187501-660e-4ba0-cf73-47820289d22e"
      },
      "execution_count": 13,
      "outputs": [
        {
          "output_type": "stream",
          "name": "stdout",
          "text": [
            "The sum of all even numbers between 1 and 500 is: 62750\n"
          ]
        }
      ]
    },
    {
      "cell_type": "code",
      "source": [
        "# Write a program to reverse a string using a while loop.\n",
        "string = input(\"Enter a string: \")\n",
        "\n",
        "reversed_string = \"\"\n",
        "index = len(string) - 1\n",
        "\n",
        "while index >= 0:\n",
        "    reversed_string += string[index]\n",
        "    index -= 1\n",
        "\n",
        "print(\"Reversed string:\", reversed_string)\n"
      ],
      "metadata": {
        "colab": {
          "base_uri": "https://localhost:8080/"
        },
        "id": "WDrMoeO9lX62",
        "outputId": "2371a4b2-dc55-462d-b920-e8f5cdc820f0"
      },
      "execution_count": 15,
      "outputs": [
        {
          "output_type": "stream",
          "name": "stdout",
          "text": [
            "Enter a string: anchal\n",
            "Reversed string: lahcna\n"
          ]
        }
      ]
    },
    {
      "cell_type": "code",
      "source": [
        "#Write a Python program to calculate the factorial of a number provided by the user using a while loop.\n",
        "num = int(input(\"Enter a number: \"))\n",
        "\n",
        "factorial = 1\n",
        "i = 1\n",
        "\n",
        "while i <= num:\n",
        "    factorial *= i  # Multiply the current value of factorial by i\n",
        "    i += 1  # Increment i\n",
        "\n",
        "print(\"The factorial of\", num, \"is:\", factorial)\n"
      ],
      "metadata": {
        "colab": {
          "base_uri": "https://localhost:8080/"
        },
        "id": "N9vDktYol3S1",
        "outputId": "d2ed7624-c7c2-446c-e40c-78cd0e80f21d"
      },
      "execution_count": 16,
      "outputs": [
        {
          "output_type": "stream",
          "name": "stdout",
          "text": [
            "Enter a number: 30\n",
            "The factorial of 30 is: 265252859812191058636308480000000\n"
          ]
        }
      ]
    }
  ]
}